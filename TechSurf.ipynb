{
  "cells": [
    {
      "cell_type": "markdown",
      "source": [
        "The approach over here is to create a database for the images for all compression levels i.e. at each percentage. Then find the best compression level that is a good ratio between the image score and size. Now we will use this to create a ML model and then according to the uploaded image it would predict the best compression level where its quality drop would be least but the size drop will be major."
      ],
      "metadata": {
        "id": "nMASI8pHbpiU"
      }
    },
    {
      "cell_type": "code",
      "execution_count": null,
      "metadata": {
        "id": "Bh4W49MwZjqE"
      },
      "outputs": [],
      "source": [
        "pip install brisque"
      ]
    },
    {
      "cell_type": "code",
      "execution_count": null,
      "metadata": {
        "id": "Wwd3P5A1brq-"
      },
      "outputs": [],
      "source": [
        "import requests\n",
        "file_url = \"https://d8it4huxumps7.cloudfront.net/files/62babe062492f_images.zip\"\n",
        "    \n",
        "r = requests.get(file_url, stream = True) \n",
        "  \n",
        "with open(\"images.zip\", \"wb\") as file: \n",
        "    for block in r.iter_content(chunk_size = 1024):\n",
        "         if block: \n",
        "             file.write(block) \n",
        "!unzip images.zip"
      ]
    },
    {
      "cell_type": "markdown",
      "source": [
        "The first step to get the scores of image."
      ],
      "metadata": {
        "id": "kAY5k3-acrN7"
      }
    },
    {
      "cell_type": "code",
      "source": [
        "!pip install brisque\n",
        "from brisque import BRISQUE\n",
        "score_list = []\n",
        "score = []\n",
        "for i in range(1,16):\n",
        "  obj = BRISQUE(\"./Images/sample\"+str(i)+\".jpg\", url=False)\n",
        "  score.append(obj.score())\n",
        "print(score)"
      ],
      "metadata": {
        "id": "RWSF8drw_OkD"
      },
      "execution_count": null,
      "outputs": []
    },
    {
      "cell_type": "code",
      "source": [
        "x = [20.31519123405573, 19.900730184077446, -5.387524552373776, 28.016113738459325, 33.1085191570979, 35.81419973503304, 37.12661558734973, 22.584771590401232, 22.222819062138996, 21.653749042840303, 19.11221621027309, 22.872423539129016, 19.41248782222587, 25.590861012133445, 12.036676733155872]\n",
        "import os\n",
        "\n",
        "for z in range(1,16):\n",
        "  file_size = os.path.getsize('./Images/sample'+str(z)+'.jpg')\n",
        "  x[z-1] = (x[z-1],file_size)\n",
        "print(x)"
      ],
      "metadata": {
        "id": "hJ1i2vtKCJva"
      },
      "execution_count": null,
      "outputs": []
    },
    {
      "cell_type": "code",
      "execution_count": null,
      "metadata": {
        "id": "RIaTJKM7hCIj"
      },
      "outputs": [],
      "source": [
        "import os\n",
        "import sys\n",
        "from PIL import Image\n",
        "  \n",
        "# define a function for\n",
        "# compressing an image\n",
        "def compressMe(file, fileNum,verbose = False):\n",
        "    \n",
        "      # Get the path of the file\n",
        "    filepath = os.path.join(os.getcwd(), \n",
        "                            file)\n",
        "      \n",
        "    # open the image\n",
        "    picture = Image.open(filepath)\n",
        "    # Save the picture with desired quality\n",
        "    # To change the quality of image,\n",
        "    # set the quality variable at\n",
        "    # your desired level, The more \n",
        "    # the value of quality variable \n",
        "    # and lesser the compression\n",
        "    for i in range(1,101):\n",
        "      filename = \"Compressed_\"+str(fileNum)+'_'+str(i)\n",
        "      picture.save(filename, \"JPEG\", optimize = True, quality = i)\n",
        "    return"
      ]
    },
    {
      "cell_type": "code",
      "execution_count": null,
      "metadata": {
        "id": "w0pku8djhJZ_"
      },
      "outputs": [],
      "source": [
        "for i in range(1,16):\n",
        "  compressMe('/content/Images/sample{}.jpg'.format(i),i)"
      ]
    },
    {
      "cell_type": "code",
      "execution_count": null,
      "metadata": {
        "id": "tg5Q1XXbcmAL"
      },
      "outputs": [],
      "source": [
        "!pip install brisque\n",
        "from brisque import BRISQUE\n",
        "score_list = []\n",
        "for i in range(13,14):\n",
        "  score = []\n",
        "  for x in range(1,101):\n",
        "    obj = BRISQUE(\"./Compressed/Compressed_\"+str(i)+\"_\"+str(x), url=False)\n",
        "    score.append(obj.score())\n",
        "  print(score_list)"
      ]
    },
    {
      "cell_type": "markdown",
      "source": [
        "All the data has been compiled into a csv files as it is quite time taking."
      ],
      "metadata": {
        "id": "pnGAivNEdEIv"
      }
    },
    {
      "cell_type": "code",
      "execution_count": null,
      "metadata": {
        "id": "CfoH8d_lhQqL"
      },
      "outputs": [],
      "source": [
        "import pandas as pd\n",
        "from IPython.display import display\n",
        "col_names = [z for z in range(0,100,1)]\n",
        "df = pd.read_csv('Dataset.csv',names=col_names,index_col=False)\n",
        "print(df.index)\n",
        "for x in df.index:\n",
        "  print(df.loc[x])\n",
        "display(df)"
      ]
    },
    {
      "cell_type": "code",
      "source": [
        "from ast import literal_eval  \n",
        "from IPython.display import display\n",
        "import numpy as np\n",
        "from google.colab import data_table\n",
        "data_table.enable_dataframe_formatter()\n",
        "pd.set_option('display.max_columns', None)\n",
        "\n",
        "\n",
        "%matplotlib inline\n",
        "import seaborn as sns\n",
        "import matplotlib.pyplot as plt\n",
        "\n",
        "newData = []\n",
        "\n",
        "scores = []\n",
        "sizes = []\n",
        "for x in df.index:\n",
        "  scoreSizeRatios = []\n",
        "  scoresImage = []\n",
        "  sizesImage = []\n",
        "  for z in df.columns:\n",
        "    # print(df.loc[x,z])\n",
        "    df.loc[x,z] = literal_eval(str(df.loc[x,z]).replace(\" \",''))\n",
        "    scoresImage.append(df.loc[x,z][0])\n",
        "    sizesImage.append(df.loc[x,z][1])\n",
        "    scoreSizeRatios.append((df.loc[x,z][1]/df.loc[x,z][0])/100)\n",
        "  newData.append(scoreSizeRatios)\n",
        "  scores.append(scoresImage)\n",
        "  sizes.append(sizesImage)\n",
        "\n",
        "print(scores)\n",
        "df2 = pd.DataFrame(newData)\n",
        "\n",
        "display(df)\n",
        "display(df2)\n",
        "mad = df2.mad(axis=1)\n",
        "\n",
        "\n",
        "\n",
        "plt.legend()\n",
        "plt.show()"
      ],
      "metadata": {
        "id": "Z6FvEC11YcuB"
      },
      "execution_count": null,
      "outputs": []
    },
    {
      "cell_type": "code",
      "source": [
        "for index,dif in enumerate(mad):\n",
        "  print(min(enumerate(df2.loc[index]), key=lambda x: abs(x[1]-dif)))"
      ],
      "metadata": {
        "colab": {
          "base_uri": "https://localhost:8080/"
        },
        "id": "qzt-bHpp1nnh",
        "outputId": "76698ea1-fdb0-4989-92c1-418ff94aa3b8"
      },
      "execution_count": null,
      "outputs": [
        {
          "output_type": "stream",
          "name": "stdout",
          "text": [
            "(69, 768.7286151530857)\n",
            "(53, 1361.9235361863684)\n",
            "(24, 4532.207188339809)\n",
            "(74, 287.98728402821786)\n",
            "(44, 369.9700903541011)\n",
            "(61, 608.5399188401826)\n",
            "(60, 509.63155657392366)\n",
            "(70, 826.0681002056612)\n",
            "(60, 1036.0873211330031)\n",
            "(43, 600.9767290740897)\n",
            "(38, 907.0228144724883)\n",
            "(32, 838.5583126180976)\n",
            "(27, 781.6673318440767)\n",
            "(37, 511.4324669767808)\n",
            "(46, 640.3287737772348)\n"
          ]
        }
      ]
    },
    {
      "cell_type": "code",
      "source": [
        "for index in df.index:\n",
        "  for col in df.columns:\n",
        "    if abs(df.loc[index,col][0])>(abs(df.loc[index,1][0])+abs(df.loc[index,1][0])*0.5):\n",
        "      print(index,col)\n",
        "      break"
      ],
      "metadata": {
        "id": "tzColhSUJoiM",
        "colab": {
          "base_uri": "https://localhost:8080/"
        },
        "outputId": "543f0726-8b87-4a77-d337-6e66dbbbe287"
      },
      "execution_count": null,
      "outputs": [
        {
          "output_type": "stream",
          "name": "stdout",
          "text": [
            "0 75\n",
            "1 61\n",
            "2 25\n",
            "3 76\n",
            "4 77\n",
            "5 50\n",
            "6 77\n",
            "7 68\n",
            "8 26\n",
            "9 54\n",
            "10 28\n",
            "11 33\n",
            "12 25\n",
            "13 25\n",
            "14 56\n"
          ]
        }
      ]
    },
    {
      "cell_type": "markdown",
      "source": [
        "So I reached till here. Now I was't able to figure out how to create the ML model, therefore this was the last stage of this. If the ML model works out then there are a few more upgrades we can make.\n",
        "1. Using the PDA for image compression so to acheive a better compression with a little quality drop.\n",
        "2. Using th HiFic model for image compression\n",
        "3. A bigger dataset to get more accurate values\n",
        "\n",
        "\n",
        "But what i found was that this was quite challenging task and learned a lot in the process."
      ],
      "metadata": {
        "id": "EI9iLTL9dkCN"
      }
    },
    {
      "cell_type": "code",
      "source": [
        ""
      ],
      "metadata": {
        "id": "Ob6YfNVydjL7"
      },
      "execution_count": null,
      "outputs": []
    }
  ],
  "metadata": {
    "accelerator": "GPU",
    "colab": {
      "name": "Untitled1.ipynb",
      "provenance": [],
      "collapsed_sections": []
    },
    "gpuClass": "standard",
    "kernelspec": {
      "display_name": "Python 3",
      "name": "python3"
    },
    "language_info": {
      "name": "python"
    }
  },
  "nbformat": 4,
  "nbformat_minor": 0
}